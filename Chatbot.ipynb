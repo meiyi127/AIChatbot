{
 "cells": [
  {
   "cell_type": "code",
   "execution_count": null,
   "id": "d0d972ca",
   "metadata": {},
   "outputs": [
    {
     "name": "stdout",
     "output_type": "stream",
     "text": [
      " * Serving Flask app \"__main__\" (lazy loading)\n",
      " * Environment: production\n",
      "\u001b[31m   WARNING: This is a development server. Do not use it in a production deployment.\u001b[0m\n",
      "\u001b[2m   Use a production WSGI server instead.\u001b[0m\n",
      " * Debug mode: off\n"
     ]
    },
    {
     "name": "stderr",
     "output_type": "stream",
     "text": [
      " * Running on http://127.0.0.1:5000/ (Press CTRL+C to quit)\n",
      "127.0.0.1 - - [14/Apr/2022 14:16:44] \"GET / HTTP/1.1\" 200 -\n",
      "127.0.0.1 - - [14/Apr/2022 14:16:44] \"GET /favicon.ico HTTP/1.1\" 404 -\n",
      "127.0.0.1 - - [14/Apr/2022 14:16:51] \"GET /get?msg=hihi HTTP/1.1\" 200 -\n",
      "127.0.0.1 - - [14/Apr/2022 14:16:52] \"GET /get?msg=hi HTTP/1.1\" 200 -\n",
      "127.0.0.1 - - [14/Apr/2022 14:17:00] \"GET /get?msg=how%20are%20you%3F HTTP/1.1\" 200 -\n",
      "127.0.0.1 - - [14/Apr/2022 14:17:06] \"GET /get?msg=good HTTP/1.1\" 200 -\n",
      "127.0.0.1 - - [14/Apr/2022 14:18:23] \"GET /get?msg=facility HTTP/1.1\" 200 -\n"
     ]
    }
   ],
   "source": [
    "import os\n",
    "import pandas as pd\n",
    "from flask import Flask, render_template, request\n",
    "\n",
    "dataSet=pd.read_csv(\"DataSet.csv\",encoding= 'unicode_escape')\n",
    "\n",
    "def get_response(input):\n",
    "    \n",
    "    #preprocessing \n",
    "    input = input.lower().split(\" \")\n",
    "    \n",
    "    matchInput=False\n",
    "    isFound=False\n",
    "    \n",
    "    #dept first search to find the first meet key word then return the response\n",
    "    for i in range(len(dataSet)-1):\n",
    "        for j in dataSet[\"Keyword\"][i].split(\",\"):\n",
    "            if j in input:\n",
    "                return dataSet[\"Response\"][i]\n",
    "                \n",
    "                matchInput=True\n",
    "                isFound=True\n",
    "                \n",
    "                break\n",
    "                           \n",
    "        if(isFound):\n",
    "            break\n",
    "\n",
    "    if(not matchInput):\n",
    "        return \"Sorry! I didn't get what you saying. Can you re-phrase that?\"  \n",
    "    return \"\"       \n",
    "\n",
    "app = Flask(__name__)\n",
    "app.static_folder = 'static'\n",
    "\n",
    "@app.route(\"/\")\n",
    "def home():\n",
    "    return render_template(\"index.html\")\n",
    "\n",
    "@app.route(\"/get\")\n",
    "def get_bot_response():\n",
    "    userInput = request.args.get('botMsg')\n",
    "    return str(get_response(userInput))\n",
    "\n",
    "\n",
    "if __name__ == \"__main__\":\n",
    "    os.system(\"start http://127.0.0.1:5000/\")\n",
    "    app.run()"
   ]
  },
  {
   "cell_type": "code",
   "execution_count": null,
   "id": "a8f93fc8",
   "metadata": {},
   "outputs": [],
   "source": []
  }
 ],
 "metadata": {
  "kernelspec": {
   "display_name": "Python 3 (ipykernel)",
   "language": "python",
   "name": "python3"
  },
  "language_info": {
   "codemirror_mode": {
    "name": "ipython",
    "version": 3
   },
   "file_extension": ".py",
   "mimetype": "text/x-python",
   "name": "python",
   "nbconvert_exporter": "python",
   "pygments_lexer": "ipython3",
   "version": "3.9.7"
  }
 },
 "nbformat": 4,
 "nbformat_minor": 5
}
